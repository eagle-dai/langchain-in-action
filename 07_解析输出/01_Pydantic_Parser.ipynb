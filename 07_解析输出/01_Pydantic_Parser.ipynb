{
 "cells": [
  {
   "cell_type": "markdown",
   "metadata": {},
   "source": [
    "在 LangChain 中，通过实现 get_format_instructions、parse 和 parse_with_prompt 这些方法，针对不同的使用场景和目标，设计了各种输出解析器。让我们来逐一认识一下。\n",
    "- 列表解析器（List Parser）：这个解析器用于处理模型生成的输出，当需要模型的输出是一个列表的时候使用。例如，如果你询问模型“列出所有鲜花的库存”，模型的回答应该是一个列表。\n",
    "- 日期时间解析器（Datetime Parser）：这个解析器用于处理日期和时间相关的输出，确保模型的输出是正确的日期或时间格式。\n",
    "- 枚举解析器（Enum Parser）：这个解析器用于处理预定义的一组值，当模型的输出应该是这组预定义值之一时使用。例如，如果你定义了一个问题的答案只能是“是”或“否”，那么枚举解析器可以确保模型的回答是这两个选项之一。\n",
    "- 结构化输出解析器（Structured Output Parser）：这个解析器用于处理复杂的、结构化的输出。如果你的应用需要模型生成具有特定结构的复杂回答（例如一份报告、一篇文章等），那么可以使用结构化输出解析器来实现。\n",
    "- Pydantic（JSON）解析器：这个解析器用于处理模型的输出，当模型的输出应该是一个符合特定格式的 JSON 对象时使用。它使用 Pydantic 库，这是一个数据验证库，可以用于构建复杂的数据模型，并确保模型的输出符合预期的数据模型。\n",
    "- 自动修复解析器（Auto-Fixing Parser）：这个解析器可以自动修复某些常见的模型输出错误。例如，如果模型的输出应该是一段文本，但是模型返回了一段包含语法或拼写错误的文本，自动修复解析器可以自动纠正这些错误。\n",
    "- 重试解析器（RetryWithErrorOutputParser）：这个解析器用于在模型的初次输出不符合预期时，尝试修复或重新生成新的输出。例如，如果模型的输出应该是一个日期，但是模型返回了一个字符串，那么重试解析器可以重新提示模型生成正确的日期格式。"
   ]
  },
  {
   "cell_type": "markdown",
   "metadata": {},
   "source": [
    "Pydantic (JSON) 解析器应该是**最常用也是最重要的解析器**。\n",
    "\n",
    "Pydantic 是一个 Python 数据验证和设置管理库，主要基于 Python 类型提示。尽管它不是专为 JSON 设计的，但由于 JSON 是现代 Web 应用和 API 交互中的常见数据格式，Pydantic 在处理和验证 JSON 数据时特别有用。"
   ]
  },
  {
   "cell_type": "code",
   "execution_count": 13,
   "metadata": {},
   "outputs": [],
   "source": [
    "# ------Part 1\n",
    "from dotenv import load_dotenv  # 用于加载环境变量\n",
    "load_dotenv()  # 加载 .env 文件中的环境变量\n",
    "\n",
    "# 创建模型实例\n",
    "import os\n",
    "from langchain_openai import AzureChatOpenAI\n",
    "model = AzureChatOpenAI(\n",
    "    azure_endpoint=os.getenv(\"BASE_URL\"),\n",
    "    openai_api_version=os.getenv(\"API_VERSION\"),\n",
    "    deployment_name=os.getenv(\"DEPLOYMENT_NAME\"),\n",
    "    openai_api_key=os.getenv(\"API_KEY\"),\n",
    "    temperature=0\n",
    ")"
   ]
  },
  {
   "cell_type": "code",
   "execution_count": 14,
   "metadata": {},
   "outputs": [],
   "source": [
    "# ------Part 2\n",
    "# 创建一个空的DataFrame用于存储结果\n",
    "import pandas as pd\n",
    "df = pd.DataFrame(columns=[\"flower_type\", \"price\", \"description\", \"reason\"])\n",
    "\n",
    "# 数据准备\n",
    "flowers = [\"玫瑰\", \"百合\", \"康乃馨\"]\n",
    "prices = [\"50\", \"30\", \"20\"]\n",
    "\n",
    "# 定义我们想要接收的数据格式\n",
    "from pydantic import BaseModel, Field\n",
    "class FlowerDescription(BaseModel):\n",
    "    flower_type: str = Field(description=\"鲜花的种类\")\n",
    "    price: int = Field(description=\"鲜花的价格\")\n",
    "    description: str = Field(description=\"鲜花的描述文案\")\n",
    "    reason: str = Field(description=\"为什么要这样写这个文案\")"
   ]
  },
  {
   "cell_type": "code",
   "execution_count": 18,
   "metadata": {},
   "outputs": [
    {
     "name": "stdout",
     "output_type": "stream",
     "text": [
      "输出格式： The output should be formatted as a JSON instance that conforms to the JSON schema below.\n",
      "\n",
      "As an example, for the schema {\"properties\": {\"foo\": {\"title\": \"Foo\", \"description\": \"a list of strings\", \"type\": \"array\", \"items\": {\"type\": \"string\"}}}, \"required\": [\"foo\"]}\n",
      "the object {\"foo\": [\"bar\", \"baz\"]} is a well-formatted instance of the schema. The object {\"properties\": {\"foo\": [\"bar\", \"baz\"]}} is not well-formatted.\n",
      "\n",
      "Here is the output schema:\n",
      "```\n",
      "{\"properties\": {\"flower_type\": {\"description\": \"\\u9c9c\\u82b1\\u7684\\u79cd\\u7c7b\", \"title\": \"Flower Type\", \"type\": \"string\"}, \"price\": {\"description\": \"\\u9c9c\\u82b1\\u7684\\u4ef7\\u683c\", \"title\": \"Price\", \"type\": \"integer\"}, \"description\": {\"description\": \"\\u9c9c\\u82b1\\u7684\\u63cf\\u8ff0\\u6587\\u6848\", \"title\": \"Description\", \"type\": \"string\"}, \"reason\": {\"description\": \"\\u4e3a\\u4ec0\\u4e48\\u8981\\u8fd9\\u6837\\u5199\\u8fd9\\u4e2a\\u6587\\u6848\", \"title\": \"Reason\", \"type\": \"string\"}}, \"required\": [\"flower_type\", \"price\", \"description\", \"reason\"]}\n",
      "```\n"
     ]
    }
   ],
   "source": [
    "# ------Part 3\n",
    "# 创建输出解析器\n",
    "from langchain.output_parsers import PydanticOutputParser\n",
    "output_parser = PydanticOutputParser(pydantic_object=FlowerDescription)\n",
    "\n",
    "# 获取输出格式指示\n",
    "format_instructions = output_parser.get_format_instructions()\n",
    "# 打印提示\n",
    "print(\"输出格式：\", format_instructions)"
   ]
  },
  {
   "cell_type": "code",
   "execution_count": 10,
   "metadata": {},
   "outputs": [
    {
     "name": "stdout",
     "output_type": "stream",
     "text": [
      "提示： input_variables=['flower', 'price'] partial_variables={'format_instructions': 'The output should be formatted as a JSON instance that conforms to the JSON schema below.\\n\\nAs an example, for the schema {\"properties\": {\"foo\": {\"title\": \"Foo\", \"description\": \"a list of strings\", \"type\": \"array\", \"items\": {\"type\": \"string\"}}}, \"required\": [\"foo\"]}\\nthe object {\"foo\": [\"bar\", \"baz\"]} is a well-formatted instance of the schema. The object {\"properties\": {\"foo\": [\"bar\", \"baz\"]}} is not well-formatted.\\n\\nHere is the output schema:\\n```\\n{\"properties\": {\"flower_type\": {\"description\": \"\\\\u9c9c\\\\u82b1\\\\u7684\\\\u79cd\\\\u7c7b\", \"title\": \"Flower Type\", \"type\": \"string\"}, \"price\": {\"description\": \"\\\\u9c9c\\\\u82b1\\\\u7684\\\\u4ef7\\\\u683c\", \"title\": \"Price\", \"type\": \"integer\"}, \"description\": {\"description\": \"\\\\u9c9c\\\\u82b1\\\\u7684\\\\u63cf\\\\u8ff0\\\\u6587\\\\u6848\", \"title\": \"Description\", \"type\": \"string\"}, \"reason\": {\"description\": \"\\\\u4e3a\\\\u4ec0\\\\u4e48\\\\u8981\\\\u8fd9\\\\u6837\\\\u5199\\\\u8fd9\\\\u4e2a\\\\u6587\\\\u6848\", \"title\": \"Reason\", \"type\": \"string\"}}, \"required\": [\"flower_type\", \"price\", \"description\", \"reason\"]}\\n```'} template='您是一位专业的鲜花店文案撰写员。\\n对于售价为 {price} 元的 {flower} ，您能提供一个吸引人的简短中文描述吗？\\n{format_instructions}'\n"
     ]
    }
   ],
   "source": [
    "# ------Part 4\n",
    "# 创建提示模板\n",
    "from langchain import PromptTemplate\n",
    "prompt_template = \"\"\"您是一位专业的鲜花店文案撰写员。\n",
    "对于售价为 {price} 元的 {flower} ，您能提供一个吸引人的简短中文描述吗？\n",
    "{format_instructions}\"\"\"\n",
    "\n",
    "# 根据模板创建提示，同时在提示中加入输出解析器的说明\n",
    "prompt = PromptTemplate.from_template(prompt_template, \n",
    "       partial_variables={\"format_instructions\": format_instructions}) \n",
    "\n",
    "# 打印提示\n",
    "print(\"提示：\", prompt)"
   ]
  },
  {
   "cell_type": "code",
   "execution_count": 19,
   "metadata": {},
   "outputs": [
    {
     "name": "stdout",
     "output_type": "stream",
     "text": [
      "提示： 您是一位专业的鲜花店文案撰写员。\n",
      "对于售价为 50 元的 玫瑰 ，您能提供一个吸引人的简短中文描述吗？\n",
      "The output should be formatted as a JSON instance that conforms to the JSON schema below.\n",
      "\n",
      "As an example, for the schema {\"properties\": {\"foo\": {\"title\": \"Foo\", \"description\": \"a list of strings\", \"type\": \"array\", \"items\": {\"type\": \"string\"}}}, \"required\": [\"foo\"]}\n",
      "the object {\"foo\": [\"bar\", \"baz\"]} is a well-formatted instance of the schema. The object {\"properties\": {\"foo\": [\"bar\", \"baz\"]}} is not well-formatted.\n",
      "\n",
      "Here is the output schema:\n",
      "```\n",
      "{\"properties\": {\"flower_type\": {\"description\": \"\\u9c9c\\u82b1\\u7684\\u79cd\\u7c7b\", \"title\": \"Flower Type\", \"type\": \"string\"}, \"price\": {\"description\": \"\\u9c9c\\u82b1\\u7684\\u4ef7\\u683c\", \"title\": \"Price\", \"type\": \"integer\"}, \"description\": {\"description\": \"\\u9c9c\\u82b1\\u7684\\u63cf\\u8ff0\\u6587\\u6848\", \"title\": \"Description\", \"type\": \"string\"}, \"reason\": {\"description\": \"\\u4e3a\\u4ec0\\u4e48\\u8981\\u8fd9\\u6837\\u5199\\u8fd9\\u4e2a\\u6587\\u6848\", \"title\": \"Reason\", \"type\": \"string\"}}, \"required\": [\"flower_type\", \"price\", \"description\", \"reason\"]}\n",
      "```\n",
      "提示： 您是一位专业的鲜花店文案撰写员。\n",
      "对于售价为 30 元的 百合 ，您能提供一个吸引人的简短中文描述吗？\n",
      "The output should be formatted as a JSON instance that conforms to the JSON schema below.\n",
      "\n",
      "As an example, for the schema {\"properties\": {\"foo\": {\"title\": \"Foo\", \"description\": \"a list of strings\", \"type\": \"array\", \"items\": {\"type\": \"string\"}}}, \"required\": [\"foo\"]}\n",
      "the object {\"foo\": [\"bar\", \"baz\"]} is a well-formatted instance of the schema. The object {\"properties\": {\"foo\": [\"bar\", \"baz\"]}} is not well-formatted.\n",
      "\n",
      "Here is the output schema:\n",
      "```\n",
      "{\"properties\": {\"flower_type\": {\"description\": \"\\u9c9c\\u82b1\\u7684\\u79cd\\u7c7b\", \"title\": \"Flower Type\", \"type\": \"string\"}, \"price\": {\"description\": \"\\u9c9c\\u82b1\\u7684\\u4ef7\\u683c\", \"title\": \"Price\", \"type\": \"integer\"}, \"description\": {\"description\": \"\\u9c9c\\u82b1\\u7684\\u63cf\\u8ff0\\u6587\\u6848\", \"title\": \"Description\", \"type\": \"string\"}, \"reason\": {\"description\": \"\\u4e3a\\u4ec0\\u4e48\\u8981\\u8fd9\\u6837\\u5199\\u8fd9\\u4e2a\\u6587\\u6848\", \"title\": \"Reason\", \"type\": \"string\"}}, \"required\": [\"flower_type\", \"price\", \"description\", \"reason\"]}\n",
      "```\n",
      "提示： 您是一位专业的鲜花店文案撰写员。\n",
      "对于售价为 20 元的 康乃馨 ，您能提供一个吸引人的简短中文描述吗？\n",
      "The output should be formatted as a JSON instance that conforms to the JSON schema below.\n",
      "\n",
      "As an example, for the schema {\"properties\": {\"foo\": {\"title\": \"Foo\", \"description\": \"a list of strings\", \"type\": \"array\", \"items\": {\"type\": \"string\"}}}, \"required\": [\"foo\"]}\n",
      "the object {\"foo\": [\"bar\", \"baz\"]} is a well-formatted instance of the schema. The object {\"properties\": {\"foo\": [\"bar\", \"baz\"]}} is not well-formatted.\n",
      "\n",
      "Here is the output schema:\n",
      "```\n",
      "{\"properties\": {\"flower_type\": {\"description\": \"\\u9c9c\\u82b1\\u7684\\u79cd\\u7c7b\", \"title\": \"Flower Type\", \"type\": \"string\"}, \"price\": {\"description\": \"\\u9c9c\\u82b1\\u7684\\u4ef7\\u683c\", \"title\": \"Price\", \"type\": \"integer\"}, \"description\": {\"description\": \"\\u9c9c\\u82b1\\u7684\\u63cf\\u8ff0\\u6587\\u6848\", \"title\": \"Description\", \"type\": \"string\"}, \"reason\": {\"description\": \"\\u4e3a\\u4ec0\\u4e48\\u8981\\u8fd9\\u6837\\u5199\\u8fd9\\u4e2a\\u6587\\u6848\", \"title\": \"Reason\", \"type\": \"string\"}}, \"required\": [\"flower_type\", \"price\", \"description\", \"reason\"]}\n",
      "```\n",
      "输出的数据： [{'flower_type': '玫瑰', 'price': 50, 'description': '只需50元，即可拥有象征着热情与爱情的经典玫瑰，每一朵都精心挑选，绽放着无与伦比的美丽。无论是表达爱意，还是点缀生活，这些玫瑰都是完美之选。', 'reason': '这段描述旨在通过强调玫瑰的象征意义和美丽，以及其亲民的价格，吸引顾客购买用于表达情感或装饰生活的场合。'}, {'flower_type': '百合', 'price': 30, 'description': '洁白如玉的百合，30元的惊喜，绽放着纯净的芬芳，为您的生活空间带来一抹宁静与和谐。', 'reason': '这段描述旨在通过百合的纯洁象征和亲民价格点，吸引顾客感受其带来的宁静美好，促进购买。'}, {'flower_type': '康乃馨', 'price': 20, 'description': '只需20元，带走一束温馨的康乃馨，让爱与关怀绽放在您心爱之人的微笑中。每一朵精选的花朵都承载着深情，无论是母亲节的温暖致敬，还是日常的一份深切问候，康乃馨都是传递爱意的完美选择。', 'reason': '这段描述旨在通过情感联结和实惠的价格点，吸引顾客购买康乃馨，强调其作为礼物的意义和价值。'}]\n"
     ]
    }
   ],
   "source": [
    "# ------Part 5\n",
    "for flower, price in zip(flowers, prices):\n",
    "    # 根据提示准备模型的输入\n",
    "    input = prompt.format(flower=flower, price=price)\n",
    "    # 打印提示\n",
    "    print(\"提示：\", input)\n",
    "\n",
    "    # 获取模型的输出\n",
    "    output = model.invoke(input)\n",
    "\n",
    "    # 解析模型的输出\n",
    "    parsed_output = output_parser.parse(output.content)\n",
    "    parsed_output_dict = parsed_output.dict()  # 将Pydantic格式转换为字典\n",
    "\n",
    "    # 将解析后的输出添加到DataFrame中\n",
    "    df.loc[len(df)] = parsed_output.dict()\n",
    "\n",
    "# 打印字典\n",
    "print(\"输出的数据：\", df.to_dict(orient='records'))"
   ]
  },
  {
   "cell_type": "code",
   "execution_count": 20,
   "metadata": {},
   "outputs": [
    {
     "data": {
      "text/html": [
       "<div>\n",
       "<style scoped>\n",
       "    .dataframe tbody tr th:only-of-type {\n",
       "        vertical-align: middle;\n",
       "    }\n",
       "\n",
       "    .dataframe tbody tr th {\n",
       "        vertical-align: top;\n",
       "    }\n",
       "\n",
       "    .dataframe thead th {\n",
       "        text-align: right;\n",
       "    }\n",
       "</style>\n",
       "<table border=\"1\" class=\"dataframe\">\n",
       "  <thead>\n",
       "    <tr style=\"text-align: right;\">\n",
       "      <th></th>\n",
       "      <th>flower_type</th>\n",
       "      <th>price</th>\n",
       "      <th>description</th>\n",
       "      <th>reason</th>\n",
       "    </tr>\n",
       "  </thead>\n",
       "  <tbody>\n",
       "    <tr>\n",
       "      <th>0</th>\n",
       "      <td>玫瑰</td>\n",
       "      <td>50</td>\n",
       "      <td>只需50元，即可拥有象征着热情与爱情的经典玫瑰，每一朵都精心挑选，绽放着无与伦比的美丽。无论...</td>\n",
       "      <td>这段描述旨在通过强调玫瑰的象征意义和美丽，以及其亲民的价格，吸引顾客购买用于表达情感或装饰生...</td>\n",
       "    </tr>\n",
       "    <tr>\n",
       "      <th>1</th>\n",
       "      <td>百合</td>\n",
       "      <td>30</td>\n",
       "      <td>洁白如玉的百合，30元的惊喜，绽放着纯净的芬芳，为您的生活空间带来一抹宁静与和谐。</td>\n",
       "      <td>这段描述旨在通过百合的纯洁象征和亲民价格点，吸引顾客感受其带来的宁静美好，促进购买。</td>\n",
       "    </tr>\n",
       "    <tr>\n",
       "      <th>2</th>\n",
       "      <td>康乃馨</td>\n",
       "      <td>20</td>\n",
       "      <td>只需20元，带走一束温馨的康乃馨，让爱与关怀绽放在您心爱之人的微笑中。每一朵精选的花朵都承载...</td>\n",
       "      <td>这段描述旨在通过情感联结和实惠的价格点，吸引顾客购买康乃馨，强调其作为礼物的意义和价值。</td>\n",
       "    </tr>\n",
       "  </tbody>\n",
       "</table>\n",
       "</div>"
      ],
      "text/plain": [
       "  flower_type  price                                        description  \\\n",
       "0          玫瑰     50  只需50元，即可拥有象征着热情与爱情的经典玫瑰，每一朵都精心挑选，绽放着无与伦比的美丽。无论...   \n",
       "1          百合     30          洁白如玉的百合，30元的惊喜，绽放着纯净的芬芳，为您的生活空间带来一抹宁静与和谐。   \n",
       "2         康乃馨     20  只需20元，带走一束温馨的康乃馨，让爱与关怀绽放在您心爱之人的微笑中。每一朵精选的花朵都承载...   \n",
       "\n",
       "                                              reason  \n",
       "0  这段描述旨在通过强调玫瑰的象征意义和美丽，以及其亲民的价格，吸引顾客购买用于表达情感或装饰生...  \n",
       "1         这段描述旨在通过百合的纯洁象征和亲民价格点，吸引顾客感受其带来的宁静美好，促进购买。  \n",
       "2       这段描述旨在通过情感联结和实惠的价格点，吸引顾客购买康乃馨，强调其作为礼物的意义和价值。  "
      ]
     },
     "execution_count": 20,
     "metadata": {},
     "output_type": "execute_result"
    }
   ],
   "source": [
    "df"
   ]
  }
 ],
 "metadata": {
  "kernelspec": {
   "display_name": "venv",
   "language": "python",
   "name": "python3"
  },
  "language_info": {
   "codemirror_mode": {
    "name": "ipython",
    "version": 3
   },
   "file_extension": ".py",
   "mimetype": "text/x-python",
   "name": "python",
   "nbconvert_exporter": "python",
   "pygments_lexer": "ipython3",
   "version": "3.11.5"
  }
 },
 "nbformat": 4,
 "nbformat_minor": 2
}
