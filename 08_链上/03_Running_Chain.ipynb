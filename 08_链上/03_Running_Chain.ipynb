{
 "cells": [
  {
   "cell_type": "code",
   "execution_count": 1,
   "metadata": {},
   "outputs": [],
   "source": [
    "# 导入所需库\n",
    "from langchain import PromptTemplate\n",
    "\n",
    "# 设置提示模板\n",
    "prompt = PromptTemplate(\n",
    "    input_variables=[\"flower\", \"season\"],\n",
    "    template=\"{flower}在{season}的花语是?\"\n",
    ")"
   ]
  },
  {
   "cell_type": "code",
   "execution_count": 2,
   "metadata": {},
   "outputs": [
    {
     "name": "stderr",
     "output_type": "stream",
     "text": [
      "c:\\Users\\I078212\\workspace\\eagle\\langchain-in-action\\venv\\Lib\\site-packages\\langchain_core\\_api\\deprecation.py:119: LangChainDeprecationWarning: The class `LLMChain` was deprecated in LangChain 0.1.17 and will be removed in 0.3.0. Use RunnableSequence, e.g., `prompt | llm` instead.\n",
      "  warn_deprecated(\n"
     ]
    }
   ],
   "source": [
    "import os\n",
    "from langchain import LLMChain\n",
    "from langchain_openai import AzureChatOpenAI\n",
    "\n",
    "# 初始化大模型\n",
    "llm = AzureChatOpenAI(\n",
    "    azure_endpoint=os.getenv(\"BASE_URL\"),\n",
    "    openai_api_version=os.getenv(\"API_VERSION\"),\n",
    "    deployment_name=os.getenv(\"DEPLOYMENT_NAME\"),\n",
    "    openai_api_key=os.getenv(\"API_KEY\"),\n",
    "    temperature=0\n",
    ")\n",
    "\n",
    "# 初始化链\n",
    "# llm_chain = prompt | llm\n",
    "llm_chain = LLMChain(llm=llm, prompt=prompt)"
   ]
  },
  {
   "cell_type": "code",
   "execution_count": 3,
   "metadata": {},
   "outputs": [
    {
     "name": "stdout",
     "output_type": "stream",
     "text": [
      "{'flower': '玫瑰', 'season': '夏季', 'text': '玫瑰花的花语因其颜色和文化背景而有所不同，但通常不会随季节变化。不同颜色的玫瑰代表不同的含义：\\n\\n- 红玫瑰：通常代表热情、爱情和勇敢。\\n- 白玫瑰：象征纯洁、无辜和尊重。\\n- 黄玫瑰：代表友谊、关怀和快乐。\\n- 粉玫瑰：表示温柔、感激和欣赏。\\n- 橙玫瑰：象征着热情和激情。\\n- 紫玫瑰：代表魅力、神秘和爱情的魔力。\\n\\n在夏季，玫瑰依然保持其传统的花语，但人们可能会根据夏季的气氛和活动选择适合的玫瑰颜色来表达特定的情感。例如，在夏天，鲜艳的红色或橙色玫瑰可能会用来代表热烈的爱情或夏日的活力。然而，这并不意味着夏季有特定的“夏季花语”与玫瑰相关联。'}\n"
     ]
    }
   ],
   "source": [
    "# 调用链\n",
    "response = llm_chain.invoke({\n",
    "    'flower': \"玫瑰\",\n",
    "    'season': \"夏季\"\n",
    "})\n",
    "print(response)"
   ]
  },
  {
   "cell_type": "code",
   "execution_count": 4,
   "metadata": {},
   "outputs": [
    {
     "name": "stderr",
     "output_type": "stream",
     "text": [
      "c:\\Users\\I078212\\workspace\\eagle\\langchain-in-action\\venv\\Lib\\site-packages\\langchain_core\\_api\\deprecation.py:119: LangChainDeprecationWarning: The method `Chain.run` was deprecated in langchain 0.1.0 and will be removed in 0.3.0. Use invoke instead.\n",
      "  warn_deprecated(\n"
     ]
    },
    {
     "data": {
      "text/plain": [
       "'玫瑰花的花语因其颜色和文化背景而有所不同，但通常它们代表爱情、美丽、勇气和尊重。在夏季，玫瑰依然保持其一贯的花语，但并没有特定的花语仅仅与夏季相关。不同颜色的玫瑰花语如下：\\n\\n- 红玫瑰：热情、真爱、勇敢和尊重。\\n- 粉玫瑰：温柔、感激和欣赏。\\n- 白玫瑰：纯洁、无辜和尊敬。\\n- 黄玫瑰：友谊、关怀和快乐。\\n- 橙玫瑰：激情、欲望和热情。\\n\\n尽管玫瑰的花语在夏季不会改变，但夏季盛开的玫瑰可能会因其旺盛的生长和丰富的色彩而被赋予更多关于生命力和活力的象征意义。'"
      ]
     },
     "execution_count": 4,
     "metadata": {},
     "output_type": "execute_result"
    }
   ],
   "source": [
    "# run方法\n",
    "llm_chain.run({\n",
    "    'flower': \"玫瑰\",\n",
    "    'season': \"夏季\"\n",
    "})"
   ]
  },
  {
   "cell_type": "code",
   "execution_count": 8,
   "metadata": {},
   "outputs": [
    {
     "name": "stdout",
     "output_type": "stream",
     "text": [
      "玫瑰花的花语因其颜色和品种而有所不同，但通常它们代表爱情、美丽、勇气和尊重。夏季并没有特定改变玫瑰花语的传统，但是在不同的文化和情境中，人们可能会赋予玫瑰以特定的意义。例如，在夏季的婚礼或节日中，玫瑰可能会被用来表达热情、成熟的爱情或者盛夏的活力。\n",
      "\n",
      "以下是一些常见的玫瑰颜色及其花语：\n",
      "\n",
      "- 红玫瑰：热情、真爱、勇敢和尊重。\n",
      "- 粉玫瑰：优雅、感激和甜蜜。\n",
      "- 白玫瑰：纯洁、无辜和尊敬。\n",
      "- 黄玫瑰：友谊、快乐和新的开始。\n",
      "- 橙玫瑰：欲望、热情和魅力。\n",
      "- 紫玫瑰：魔法、神秘和爱情的初衷。\n",
      "\n",
      "如果你想要表达特定的情感或信息，并且是在夏季，你可以选择相应颜色的玫瑰来传达你的意图。例如，夏天的户外婚礼可能会使用大量的红玫瑰来强调热烈的爱情，或者使用黄玫瑰来营造轻松愉快的氛围。\n"
     ]
    }
   ],
   "source": [
    "# predict方法\n",
    "# predict 方法类似于 run，只是输入键被指定为关键字参数而不是 Python 字典。\n",
    "\n",
    "result = llm_chain.predict(flower=\"玫瑰\", season=\"夏季\")\n",
    "print(result)"
   ]
  },
  {
   "cell_type": "code",
   "execution_count": 6,
   "metadata": {},
   "outputs": [
    {
     "name": "stdout",
     "output_type": "stream",
     "text": [
      "[{'text': '玫瑰花的花语因其颜色和文化背景而有所不同，但通常与爱情、美丽、尊重和激情等概念相关联。夏季并没有特定改变玫瑰花语的传统，但夏季是玫瑰盛开的季节之一，因此它们常常被用来表达热烈的情感和生机勃勃的精神。\\n\\n不同颜色的玫瑰代表不同的花语：\\n- 红玫瑰：爱情和浪漫\\n- 白玫瑰：纯洁和尊重\\n- 黄玫瑰：友谊和关怀\\n- 粉玫瑰：感激和初恋\\n- 橙玫瑰：激情和热情\\n- 紫玫瑰：魅力和神秘\\n\\n在夏季，玫瑰花的花语可能会被赋予更多关于生命力、活力和热情的意义，因为夏天是一个充满活力和色彩的季节。然而，玫瑰的花语并不会因为季节的变化而有根本的改变。如果你想在夏季送玫瑰，选择合适的颜色来表达你的情感和意图是最重要的。'}, {'text': '百合花在花语中通常代表纯洁、高贵、爱情和纯真。不同颜色的百合花也有不同的含义，例如：\\n\\n- 白色百合：纯洁、贞洁\\n- 粉色百合：娇俏、华贵\\n- 黄色百合：欢乐、感谢\\n- 橙色百合：热情、自信\\n\\n春季是万物复苏、生机勃勃的季节，百合在这个季节开放时，其花语也可以与春天的特性相结合，代表新生、希望和开始。不过，花语并没有严格的规定，它们随文化和地区的不同而有所变化。如果你想表达特定的情感，可以根据上述花语的含义选择合适颜色的百合花。'}, {'text': '郁金香（Tulip）是一种广受欢迎的花卉，它的花语通常与爱情和美好的祝愿有关。不同颜色的郁金香也有不同的花语，例如红色通常代表真爱，黄色代表快乐和阳光，紫色代表尊贵和王权等。\\n\\n然而，郁金香的花语并不会因为季节的变化而改变。秋季是种植郁金香球茎的最佳时期，因为它们需要在冬季经历一段冷冻期，以便在春季开花。因此，秋季并没有特定的郁金香花语，它的花语仍然是关于爱情和美好祝愿的象征。\\n\\n如果你想要表达秋季的特定情感或祝愿，你可以选择与秋季相符的颜色，如橙色或黄色的郁金香，它们可以代表收获和丰富。但请记住，花语是人为赋予的象征意义，不同文化和地区可能有不同的解释。'}]\n"
     ]
    }
   ],
   "source": [
    "# apply 方法允许我们针对输入列表运行链，一次处理多个输入。\n",
    "\n",
    "input_list = [\n",
    "    {\"flower\": \"玫瑰\", 'season': \"夏季\"},\n",
    "    {\"flower\": \"百合\", 'season': \"春季\"},\n",
    "    {\"flower\": \"郁金香\", 'season': \"秋季\"}\n",
    "]\n",
    "result = llm_chain.apply(input_list)\n",
    "print(result)"
   ]
  },
  {
   "cell_type": "code",
   "execution_count": 7,
   "metadata": {},
   "outputs": [
    {
     "name": "stdout",
     "output_type": "stream",
     "text": [
      "generations=[[ChatGeneration(text='玫瑰花的花语因其颜色和品种而有所不同，但通常它们代表爱情、美丽、勇气和尊重。夏季并没有改变玫瑰花的基本花语，但在夏季赠送玫瑰可能会强调热情、充满活力和生机勃勃的爱情。不同颜色的玫瑰花语如下：\\n\\n- 红玫瑰：热情的爱情、勇敢和尊重。\\n- 粉玫瑰：温柔的爱情、感激和欣赏。\\n- 白玫瑰：纯洁、无辜和尊严。\\n- 黄玫瑰：友谊、快乐和关怀。\\n- 橙玫瑰：激情、欲望和热情的爱情。\\n\\n在夏季，玫瑰花的这些花语仍然适用，而且夏季的玫瑰可能会因为其旺盛的生长和丰富的色彩而显得更加生动和吸引人。如果你想在夏季送玫瑰，可以根据你想表达的情感选择合适的颜色。', generation_info={'finish_reason': 'stop', 'logprobs': None, 'content_filter_results': {'hate': {'filtered': False, 'severity': 'safe'}, 'self_harm': {'filtered': False, 'severity': 'safe'}, 'sexual': {'filtered': False, 'severity': 'safe'}, 'violence': {'filtered': False, 'severity': 'safe'}}}, message=AIMessage(content='玫瑰花的花语因其颜色和品种而有所不同，但通常它们代表爱情、美丽、勇气和尊重。夏季并没有改变玫瑰花的基本花语，但在夏季赠送玫瑰可能会强调热情、充满活力和生机勃勃的爱情。不同颜色的玫瑰花语如下：\\n\\n- 红玫瑰：热情的爱情、勇敢和尊重。\\n- 粉玫瑰：温柔的爱情、感激和欣赏。\\n- 白玫瑰：纯洁、无辜和尊严。\\n- 黄玫瑰：友谊、快乐和关怀。\\n- 橙玫瑰：激情、欲望和热情的爱情。\\n\\n在夏季，玫瑰花的这些花语仍然适用，而且夏季的玫瑰可能会因为其旺盛的生长和丰富的色彩而显得更加生动和吸引人。如果你想在夏季送玫瑰，可以根据你想表达的情感选择合适的颜色。', response_metadata={'token_usage': {'completion_tokens': 373, 'prompt_tokens': 23, 'total_tokens': 396}, 'model_name': 'gpt-4', 'system_fingerprint': 'fp_811936bd4f', 'prompt_filter_results': [{'prompt_index': 0, 'content_filter_results': {'hate': {'filtered': False, 'severity': 'safe'}, 'self_harm': {'filtered': False, 'severity': 'safe'}, 'sexual': {'filtered': False, 'severity': 'safe'}, 'violence': {'filtered': False, 'severity': 'safe'}}}], 'finish_reason': 'stop', 'logprobs': None, 'content_filter_results': {'hate': {'filtered': False, 'severity': 'safe'}, 'self_harm': {'filtered': False, 'severity': 'safe'}, 'sexual': {'filtered': False, 'severity': 'safe'}, 'violence': {'filtered': False, 'severity': 'safe'}}}, id='run-5a62bce6-2f24-48bc-8c2e-10edca37cd7d-0', usage_metadata={'input_tokens': 23, 'output_tokens': 373, 'total_tokens': 396}))], [ChatGeneration(text='百合花在花语中通常代表纯洁、高贵、爱情和纯真。不同颜色的百合花也有不同的含义，例如：\\n\\n- 白色百合：纯洁、优雅、天真无邪。\\n- 粉色百合：娇艳、浪漫、温柔。\\n- 黄色百合：活泼、欢乐、感激。\\n- 橙色百合：热情、自信、友谊。\\n\\n春季是万物复苏、生机勃勃的季节，百合在春季开放时，其花语也可以与春天的特性相结合，代表新生、希望和开始。不过，花语并没有严格的规定，它们随文化和地区的不同而有所变化。因此，百合在春季的花语可以根据个人的感受和文化背景来赋予特定的意义。', generation_info={'finish_reason': 'stop', 'logprobs': None, 'content_filter_results': {'hate': {'filtered': False, 'severity': 'safe'}, 'self_harm': {'filtered': False, 'severity': 'safe'}, 'sexual': {'filtered': False, 'severity': 'safe'}, 'violence': {'filtered': False, 'severity': 'safe'}}}, message=AIMessage(content='百合花在花语中通常代表纯洁、高贵、爱情和纯真。不同颜色的百合花也有不同的含义，例如：\\n\\n- 白色百合：纯洁、优雅、天真无邪。\\n- 粉色百合：娇艳、浪漫、温柔。\\n- 黄色百合：活泼、欢乐、感激。\\n- 橙色百合：热情、自信、友谊。\\n\\n春季是万物复苏、生机勃勃的季节，百合在春季开放时，其花语也可以与春天的特性相结合，代表新生、希望和开始。不过，花语并没有严格的规定，它们随文化和地区的不同而有所变化。因此，百合在春季的花语可以根据个人的感受和文化背景来赋予特定的意义。', response_metadata={'token_usage': {'completion_tokens': 281, 'prompt_tokens': 21, 'total_tokens': 302}, 'model_name': 'gpt-4', 'system_fingerprint': 'fp_811936bd4f', 'prompt_filter_results': [{'prompt_index': 0, 'content_filter_results': {'hate': {'filtered': False, 'severity': 'safe'}, 'self_harm': {'filtered': False, 'severity': 'safe'}, 'sexual': {'filtered': False, 'severity': 'safe'}, 'violence': {'filtered': False, 'severity': 'safe'}}}], 'finish_reason': 'stop', 'logprobs': None, 'content_filter_results': {'hate': {'filtered': False, 'severity': 'safe'}, 'self_harm': {'filtered': False, 'severity': 'safe'}, 'sexual': {'filtered': False, 'severity': 'safe'}, 'violence': {'filtered': False, 'severity': 'safe'}}}, id='run-4cf31aef-5a78-4e52-b39b-779039c318ca-0', usage_metadata={'input_tokens': 21, 'output_tokens': 281, 'total_tokens': 302}))], [ChatGeneration(text='郁金香（Tulip）是一种广受欢迎的花卉，它的花语通常与爱情和快乐有关。不同颜色的郁金香也有不同的含义，例如红色通常代表真爱，黄色代表快乐和阳光，紫色代表尊贵和王权等。\\n\\n然而，郁金香的花语并不会因为季节的变化而改变。秋季是种植郁金香球茎的最佳时期，因为它们需要在冬季经历一段冷冻期，以便在春季开花。尽管秋季不是郁金香开花的季节，但如果你想表达秋季的情感或寓意，可以选择与秋季相符的颜色，如橙色或黄色的郁金香，它们可以代表收获和丰富。\\n\\n总的来说，郁金香的花语主要与爱情、快乐和生命的美好有关，而不特定于某个季节。如果你想要表达特定的情感或信息，可以根据颜色和场合来选择合适的郁金香。', generation_info={'finish_reason': 'stop', 'logprobs': None, 'content_filter_results': {'hate': {'filtered': False, 'severity': 'safe'}, 'self_harm': {'filtered': False, 'severity': 'safe'}, 'sexual': {'filtered': False, 'severity': 'safe'}, 'violence': {'filtered': False, 'severity': 'safe'}}}, message=AIMessage(content='郁金香（Tulip）是一种广受欢迎的花卉，它的花语通常与爱情和快乐有关。不同颜色的郁金香也有不同的含义，例如红色通常代表真爱，黄色代表快乐和阳光，紫色代表尊贵和王权等。\\n\\n然而，郁金香的花语并不会因为季节的变化而改变。秋季是种植郁金香球茎的最佳时期，因为它们需要在冬季经历一段冷冻期，以便在春季开花。尽管秋季不是郁金香开花的季节，但如果你想表达秋季的情感或寓意，可以选择与秋季相符的颜色，如橙色或黄色的郁金香，它们可以代表收获和丰富。\\n\\n总的来说，郁金香的花语主要与爱情、快乐和生命的美好有关，而不特定于某个季节。如果你想要表达特定的情感或信息，可以根据颜色和场合来选择合适的郁金香。', response_metadata={'token_usage': {'completion_tokens': 359, 'prompt_tokens': 23, 'total_tokens': 382}, 'model_name': 'gpt-4', 'system_fingerprint': 'fp_811936bd4f', 'prompt_filter_results': [{'prompt_index': 0, 'content_filter_results': {'hate': {'filtered': False, 'severity': 'safe'}, 'self_harm': {'filtered': False, 'severity': 'safe'}, 'sexual': {'filtered': False, 'severity': 'safe'}, 'violence': {'filtered': False, 'severity': 'safe'}}}], 'finish_reason': 'stop', 'logprobs': None, 'content_filter_results': {'hate': {'filtered': False, 'severity': 'safe'}, 'self_harm': {'filtered': False, 'severity': 'safe'}, 'sexual': {'filtered': False, 'severity': 'safe'}, 'violence': {'filtered': False, 'severity': 'safe'}}}, id='run-17058be2-137c-43ad-8e3d-036bf274c394-0', usage_metadata={'input_tokens': 23, 'output_tokens': 359, 'total_tokens': 382}))]] llm_output={'token_usage': {'completion_tokens': 1013, 'prompt_tokens': 67, 'total_tokens': 1080}, 'model_name': 'gpt-3.5-turbo', 'system_fingerprint': 'fp_811936bd4f'} run=[RunInfo(run_id=UUID('5a62bce6-2f24-48bc-8c2e-10edca37cd7d')), RunInfo(run_id=UUID('4cf31aef-5a78-4e52-b39b-779039c318ca')), RunInfo(run_id=UUID('17058be2-137c-43ad-8e3d-036bf274c394'))]\n"
     ]
    }
   ],
   "source": [
    "# generate方法\n",
    "# generate 方法类似于 apply，只不过它返回一个 LLMResult 对象，而不是字符串。\n",
    "# LLMResult 通常包含模型生成文本过程中的一些相关信息，例如令牌数量、模型名称等。\n",
    "\n",
    "result = llm_chain.generate(input_list)\n",
    "print(result)"
   ]
  }
 ],
 "metadata": {
  "kernelspec": {
   "display_name": "venv",
   "language": "python",
   "name": "python3"
  },
  "language_info": {
   "codemirror_mode": {
    "name": "ipython",
    "version": 3
   },
   "file_extension": ".py",
   "mimetype": "text/x-python",
   "name": "python",
   "nbconvert_exporter": "python",
   "pygments_lexer": "ipython3",
   "version": "3.11.5"
  }
 },
 "nbformat": 4,
 "nbformat_minor": 2
}
