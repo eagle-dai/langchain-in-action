{
 "cells": [
  {
   "cell_type": "markdown",
   "metadata": {},
   "source": [
    "## LLMChain：最简单的链\n",
    "\n",
    "LLMChain 围绕着语言模型推理功能又添加了一些功能，整合了 PromptTemplate、语言模型（LLM 或聊天模型）和 Output Parser，相当于把 Model I/O 放在一个链中整体操作。它使用提示模板格式化输入，将格式化的字符串传递给 LLM，并返回 LLM 输出。"
   ]
  },
  {
   "cell_type": "code",
   "execution_count": 1,
   "metadata": {},
   "outputs": [],
   "source": [
    "# 原始字符串模板\n",
    "template = \"{flower}的花语是?\"\n",
    "\n",
    "import os\n",
    "from langchain_openai import AzureChatOpenAI\n",
    "# 创建模型实例\n",
    "llm = AzureChatOpenAI(\n",
    "    azure_endpoint=os.getenv(\"BASE_URL\"),\n",
    "    openai_api_version=os.getenv(\"API_VERSION\"),\n",
    "    deployment_name=os.getenv(\"DEPLOYMENT_NAME\"),\n",
    "    openai_api_key=os.getenv(\"API_KEY\"),\n",
    "    temperature=0\n",
    ")"
   ]
  },
  {
   "cell_type": "code",
   "execution_count": 2,
   "metadata": {},
   "outputs": [
    {
     "name": "stderr",
     "output_type": "stream",
     "text": [
      "c:\\Users\\I078212\\workspace\\eagle\\langchain-in-action\\venv\\Lib\\site-packages\\langchain_core\\_api\\deprecation.py:119: LangChainDeprecationWarning: The class `LLMChain` was deprecated in LangChain 0.1.17 and will be removed in 0.3.0. Use RunnableSequence, e.g., `prompt | llm` instead.\n",
      "  warn_deprecated(\n"
     ]
    }
   ],
   "source": [
    "from langchain import PromptTemplate, LLMChain\n",
    "\n",
    "# 创建LLMChain\n",
    "llm_chain = LLMChain(\n",
    "    llm=llm,\n",
    "    prompt=PromptTemplate.from_template(template))"
   ]
  },
  {
   "cell_type": "code",
   "execution_count": 3,
   "metadata": {},
   "outputs": [
    {
     "name": "stdout",
     "output_type": "stream",
     "text": [
      "{'flower': '玫瑰', 'text': '玫瑰的花语因颜色和文化背景而有所不同，但通常它们代表爱情、美丽、尊重和勇气。以下是一些常见的玫瑰颜色及其花语：\\n\\n1. 红玫瑰：热情的爱情、勇敢、尊重和美丽。\\n2. 粉玫瑰：温柔的爱情、感激和欣赏。\\n3. 白玫瑰：纯洁、无辜、尊敬和新的开始。\\n4. 黄玫瑰：友谊、快乐和关怀。\\n5. 橙玫瑰：热情和渴望。\\n6. 紫玫瑰：魅力、神秘和爱情的初期。\\n7. 蓝玫瑰：不可能的或未实现的爱情，因为自然界中不存在蓝色玫瑰，它通常代表神秘和追求不可能的梦想。\\n\\n不同的文化和地区可能有不同的解释，因此玫瑰的花语也可能随之变化。'}\n"
     ]
    }
   ],
   "source": [
    "# 调用LLMChain，返回结果\n",
    "result = llm_chain.invoke(\"玫瑰\")\n",
    "\n",
    "print(result)"
   ]
  },
  {
   "cell_type": "code",
   "execution_count": 4,
   "metadata": {},
   "outputs": [
    {
     "name": "stdout",
     "output_type": "stream",
     "text": [
      "玫瑰的花语因颜色和文化背景而有所不同，但通常它们代表爱情、美丽、尊重和勇气。以下是一些常见的玫瑰颜色及其花语：\n",
      "\n",
      "1. 红玫瑰：热情的爱情、勇敢、尊重和美丽。\n",
      "2. 粉玫瑰：温柔的爱情、感激和欣赏。\n",
      "3. 白玫瑰：纯洁、无辜、尊敬和新的开始。\n",
      "4. 黄玫瑰：友谊、快乐和关怀。\n",
      "5. 橙玫瑰：热情和渴望。\n",
      "6. 紫玫瑰：魅力、神秘和爱情的初期。\n",
      "7. 蓝玫瑰：不可能的或未实现的爱情，因为自然界中不存在蓝色玫瑰，它通常代表神秘和追求不可能的梦想。\n",
      "\n",
      "不同的文化和地区可能有不同的解释，因此玫瑰的花语也可能随之变化。\n"
     ]
    }
   ],
   "source": [
    "print(result['text'].replace('\\\\n', '\\n'))"
   ]
  },
  {
   "cell_type": "markdown",
   "metadata": {},
   "source": [
    "# Fix of the deprecation warning\n",
    "```python\n",
    "LangChainDeprecationWarning: The class `LLMChain` was deprecated in LangChain 0.1.17 and will be removed in 0.3.0. Use RunnableSequence, e.g., `prompt | llm` instead.\n",
    "  warn_deprecated(\n",
    "```\n"
   ]
  },
  {
   "cell_type": "code",
   "execution_count": 5,
   "metadata": {},
   "outputs": [
    {
     "name": "stdout",
     "output_type": "stream",
     "text": [
      "content='玫瑰的花语因颜色和文化背景而有所不同，但通常它们代表爱情、美丽、尊重和勇敢。以下是一些常见玫瑰颜色的花语：\\n\\n- 红玫瑰：热情的爱情、勇敢和尊重。\\n- 粉红玫瑰：温柔的爱情、感激和欣赏。\\n- 白玫瑰：纯洁、无辜和尊敬。\\n- 黄玫瑰：友谊、关怀和快乐。\\n- 橙色玫瑰：激情、欲望和热情。\\n- 紫色玫瑰：魅力、神秘和爱情的初步表达。\\n- 黑玫瑰：通常代表悲伤或告别，但在某些文化中也可能代表新的开始或重生。\\n\\n不同的场合和不同的人之间，赠送不同颜色的玫瑰可以传达不同的情感和信息。' response_metadata={'token_usage': {'completion_tokens': 308, 'prompt_tokens': 18, 'total_tokens': 326}, 'model_name': 'gpt-4', 'system_fingerprint': 'fp_811936bd4f', 'prompt_filter_results': [{'prompt_index': 0, 'content_filter_results': {'hate': {'filtered': False, 'severity': 'safe'}, 'self_harm': {'filtered': False, 'severity': 'safe'}, 'sexual': {'filtered': False, 'severity': 'safe'}, 'violence': {'filtered': False, 'severity': 'safe'}}}], 'finish_reason': 'stop', 'logprobs': None, 'content_filter_results': {'hate': {'filtered': False, 'severity': 'safe'}, 'self_harm': {'filtered': False, 'severity': 'safe'}, 'sexual': {'filtered': False, 'severity': 'safe'}, 'violence': {'filtered': False, 'severity': 'safe'}}} id='run-075cee01-cf19-4199-b245-31573c9355bf-0' usage_metadata={'input_tokens': 18, 'output_tokens': 308, 'total_tokens': 326}\n"
     ]
    }
   ],
   "source": [
    "from langchain import PromptTemplate\n",
    "\n",
    "prompt = PromptTemplate.from_template(template)\n",
    "\n",
    "# 创建LLMChain\n",
    "llm_chain = prompt | llm\n",
    "result = llm_chain.invoke(\"玫瑰\")\n",
    "\n",
    "print(result)"
   ]
  },
  {
   "cell_type": "code",
   "execution_count": 6,
   "metadata": {},
   "outputs": [
    {
     "name": "stdout",
     "output_type": "stream",
     "text": [
      "玫瑰的花语因颜色和文化背景而有所不同，但通常它们代表爱情、美丽、尊重和勇敢。以下是一些常见玫瑰颜色的花语：\n",
      "\n",
      "- 红玫瑰：热情的爱情、勇敢和尊重。\n",
      "- 粉红玫瑰：温柔的爱情、感激和欣赏。\n",
      "- 白玫瑰：纯洁、无辜和尊敬。\n",
      "- 黄玫瑰：友谊、关怀和快乐。\n",
      "- 橙色玫瑰：激情、欲望和热情。\n",
      "- 紫色玫瑰：魅力、神秘和爱情的初步表达。\n",
      "- 黑玫瑰：通常代表悲伤或告别，但在某些文化中也可能代表新的开始或重生。\n",
      "\n",
      "不同的场合和不同的人之间，赠送不同颜色的玫瑰可以传达不同的情感和信息。\n"
     ]
    }
   ],
   "source": [
    "print(result.content.replace('\\\\n', '\\n'))"
   ]
  }
 ],
 "metadata": {
  "kernelspec": {
   "display_name": "venv",
   "language": "python",
   "name": "python3"
  },
  "language_info": {
   "codemirror_mode": {
    "name": "ipython",
    "version": 3
   },
   "file_extension": ".py",
   "mimetype": "text/x-python",
   "name": "python",
   "nbconvert_exporter": "python",
   "pygments_lexer": "ipython3",
   "version": "3.11.5"
  }
 },
 "nbformat": 4,
 "nbformat_minor": 2
}
