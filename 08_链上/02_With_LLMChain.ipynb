{
 "cells": [
  {
   "cell_type": "markdown",
   "metadata": {},
   "source": [
    "## LLMChain：最简单的链\n",
    "\n",
    "LLMChain 围绕着语言模型推理功能又添加了一些功能，整合了 PromptTemplate、语言模型（LLM 或聊天模型）和 Output Parser，相当于把 Model I/O 放在一个链中整体操作。它使用提示模板格式化输入，将格式化的字符串传递给 LLM，并返回 LLM 输出。"
   ]
  },
  {
   "cell_type": "code",
   "execution_count": 1,
   "metadata": {},
   "outputs": [],
   "source": [
    "# 原始字符串模板\n",
    "template = \"{flower}的花语是?\"\n",
    "\n",
    "import os\n",
    "from langchain_openai import AzureChatOpenAI\n",
    "# 创建模型实例\n",
    "llm = AzureChatOpenAI(\n",
    "    azure_endpoint=os.getenv(\"BASE_URL\"),\n",
    "    openai_api_version=os.getenv(\"API_VERSION\"),\n",
    "    deployment_name=os.getenv(\"DEPLOYMENT_NAME\"),\n",
    "    openai_api_key=os.getenv(\"API_KEY\"),\n",
    "    temperature=0\n",
    ")"
   ]
  },
  {
   "cell_type": "code",
   "execution_count": 2,
   "metadata": {},
   "outputs": [
    {
     "name": "stderr",
     "output_type": "stream",
     "text": [
      "c:\\Users\\I078212\\workspace\\eagle\\langchain-in-action\\venv\\lib\\site-packages\\langchain_core\\_api\\deprecation.py:151: LangChainDeprecationWarning: The class `LLMChain` was deprecated in LangChain 0.1.17 and will be removed in 1.0. Use RunnableSequence, e.g., `prompt | llm` instead.\n",
      "  warn_deprecated(\n"
     ]
    }
   ],
   "source": [
    "from langchain import PromptTemplate, LLMChain\n",
    "\n",
    "# 创建LLMChain\n",
    "llm_chain = LLMChain(\n",
    "    llm=llm,\n",
    "    prompt=PromptTemplate.from_template(template))"
   ]
  },
  {
   "cell_type": "code",
   "execution_count": 3,
   "metadata": {},
   "outputs": [
    {
     "name": "stdout",
     "output_type": "stream",
     "text": [
      "{'flower': '玫瑰', 'text': '玫瑰的花语因颜色不同而有所变化。以下是一些常见颜色的玫瑰花语：\\n\\n1. **红玫瑰**：热恋、真爱、勇气和尊敬。\\n2. **白玫瑰**：纯洁、天真、尊敬和谦卑。\\n3. **黄玫瑰**：友谊、欢乐和道歉。\\n4. **粉玫瑰**：感恩、钦佩、温柔和初恋。\\n5. **橙玫瑰**：热情、欲望和兴奋。\\n6. **蓝玫瑰**：神秘、不可得和奇迹。\\n7. **紫玫瑰**：浪漫、珍贵和独特。\\n\\n不同颜色的玫瑰可以传达不同的情感和信息，因此在选择玫瑰时，可以根据你想表达的情感来选择合适的颜色。'}\n"
     ]
    }
   ],
   "source": [
    "# 调用LLMChain，返回结果\n",
    "result = llm_chain.invoke(\"玫瑰\")\n",
    "\n",
    "print(result)"
   ]
  },
  {
   "cell_type": "code",
   "execution_count": 4,
   "metadata": {},
   "outputs": [
    {
     "name": "stdout",
     "output_type": "stream",
     "text": [
      "玫瑰的花语因颜色不同而有所变化。以下是一些常见颜色的玫瑰花语：\n",
      "\n",
      "1. **红玫瑰**：热恋、真爱、勇气和尊敬。\n",
      "2. **白玫瑰**：纯洁、天真、尊敬和谦卑。\n",
      "3. **黄玫瑰**：友谊、欢乐和道歉。\n",
      "4. **粉玫瑰**：感恩、钦佩、温柔和初恋。\n",
      "5. **橙玫瑰**：热情、欲望和兴奋。\n",
      "6. **蓝玫瑰**：神秘、不可得和奇迹。\n",
      "7. **紫玫瑰**：浪漫、珍贵和独特。\n",
      "\n",
      "不同颜色的玫瑰可以传达不同的情感和信息，因此在选择玫瑰时，可以根据你想表达的情感来选择合适的颜色。\n"
     ]
    }
   ],
   "source": [
    "print(result['text'].replace('\\\\n', '\\n'))"
   ]
  },
  {
   "cell_type": "markdown",
   "metadata": {},
   "source": [
    "# Fix of the deprecation warning\n",
    "```python\n",
    "LangChainDeprecationWarning: The class `LLMChain` was deprecated in LangChain 0.1.17 and will be removed in 0.3.0. Use RunnableSequence, e.g., `prompt | llm` instead.\n",
    "  warn_deprecated(\n",
    "```\n"
   ]
  },
  {
   "cell_type": "code",
   "execution_count": 5,
   "metadata": {},
   "outputs": [
    {
     "name": "stdout",
     "output_type": "stream",
     "text": [
      "玫瑰的花语因颜色不同而有所变化。以下是一些常见颜色的玫瑰花语：\n",
      "\n",
      "1. **红玫瑰**：热恋、真爱、勇气和尊敬。\n",
      "2. **白玫瑰**：纯洁、天真、尊敬和谦卑。\n",
      "3. **黄玫瑰**：友谊、欢乐和道歉。\n",
      "4. **粉玫瑰**：感恩、优雅和甜美。\n",
      "5. **橙玫瑰**：激情、欲望和热情。\n",
      "6. **蓝玫瑰**：神秘、不可得和奇迹。\n",
      "7. **紫玫瑰**：浪漫、珍贵和独特。\n",
      "\n",
      "不同颜色的玫瑰可以传达不同的情感和信息，因此在选择玫瑰时，可以根据你想表达的情感来选择合适的颜色。\n"
     ]
    }
   ],
   "source": [
    "from langchain import PromptTemplate\n",
    "from langchain_core.output_parsers import StrOutputParser\n",
    "\n",
    "prompt = PromptTemplate.from_template(template)\n",
    "\n",
    "# 创建LLMChain\n",
    "llm_chain = prompt | llm | StrOutputParser()\n",
    "result = llm_chain.invoke(\"玫瑰\")\n",
    "\n",
    "print(result)"
   ]
  }
 ],
 "metadata": {
  "kernelspec": {
   "display_name": "venv",
   "language": "python",
   "name": "python3"
  },
  "language_info": {
   "codemirror_mode": {
    "name": "ipython",
    "version": 3
   },
   "file_extension": ".py",
   "mimetype": "text/x-python",
   "name": "python",
   "nbconvert_exporter": "python",
   "pygments_lexer": "ipython3",
   "version": "3.10.6"
  }
 },
 "nbformat": 4,
 "nbformat_minor": 2
}
